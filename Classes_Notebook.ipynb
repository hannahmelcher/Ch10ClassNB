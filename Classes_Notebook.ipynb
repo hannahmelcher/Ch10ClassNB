{
 "cells": [
  {
   "cell_type": "markdown",
   "id": "4ef4485e",
   "metadata": {},
   "source": [
    "# Ch9 Classes"
   ]
  },
  {
   "cell_type": "markdown",
   "id": "7b465366",
   "metadata": {},
   "source": [
    "### Python is an object oriented programming language.\n",
    "- Almost everything in Python is an object, with its properties and methods (Functions).\n",
    "- A Class is like an object constructor, or a \"blueprint\" for creating objects."
   ]
  },
  {
   "cell_type": "code",
   "execution_count": 13,
   "id": "741b88de",
   "metadata": {},
   "outputs": [
    {
     "name": "stdout",
     "output_type": "stream",
     "text": [
      "The email of first employee: angie.hill@company.com\n",
      "First name of employee 1: Angie\n",
      "Last name of employee 2: White\n",
      "Age of employee 2: 35\n",
      "The full name: Angie Hill\n",
      "The full name: Peter White\n"
     ]
    }
   ],
   "source": [
    "class Employee(): # name of the class\n",
    "    \n",
    "# init is the constructor of the class, mandatory for a class construction    \n",
    "# self represents the instance of the class    \n",
    "    def __init__(self, first, last, age, dept): #method/function\n",
    "        self.first=first.title()\n",
    "        self.last=last.title()\n",
    "        self.age=age\n",
    "        self.dept=dept.title()\n",
    "        self.email=first+\".\"+last+\"@company.com\"\n",
    "        \n",
    "    #creating a method called full name, needs only the instane\n",
    "    def fullname(self):\n",
    "        print(f\"The full name: {self.first} {self.last}\")\n",
    "\n",
    "# init will run automatically when you call the class        \n",
    "emp_1=Employee(\"angie\", \"hill\", 25, \"accounting\")\n",
    "emp_2=Employee(\"PETER\", \"WHITE\", 35, \"finance\")\n",
    "\n",
    "print(f\"The email of first employee: {emp_1.email}\")\n",
    "print(f\"First name of employee 1: {emp_1.first}\")\n",
    "print(f\"Last name of employee 2: {emp_2.last}\")\n",
    "print(f\"Age of employee 2: {emp_2.age}\")\n",
    "emp_1.fullname()\n",
    "emp_2.fullname()"
   ]
  },
  {
   "cell_type": "markdown",
   "id": "5d60f7c0",
   "metadata": {},
   "source": [
    "### Creating the Dog Class\n",
    "Each instance created from the Dog class will store a name and an age, and we’ll give each dog the ability to sit() and roll_over():"
   ]
  },
  {
   "cell_type": "code",
   "execution_count": 18,
   "id": "6e84155c",
   "metadata": {},
   "outputs": [
    {
     "name": "stdout",
     "output_type": "stream",
     "text": [
      "Shelly\n",
      "4\n",
      "Shelly is now sitting\n",
      "Shelly is rolled over\n",
      "Piper is now sitting\n",
      "Piper is rolled over\n",
      "Piper shaked a random person\n",
      "Piper is barking to a stranger\n",
      "Piper is now down\n"
     ]
    }
   ],
   "source": [
    "class Dog():\n",
    "    def __init__(self, name, age):\n",
    "        self.name=name.title()\n",
    "        self.age=age\n",
    "    def sit(self):\n",
    "        print(f\"{self.name} is now sitting\")\n",
    "    def roll_over(self):\n",
    "        print(f\"{self.name} is rolled over\")\n",
    "    def shake(self):\n",
    "        print(f\"{self.name} shaked a random person\")\n",
    "    def bark(self):\n",
    "        print(f\"{self.name} is barking to a stranger\")\n",
    "    def down(self):\n",
    "        print(f\"{self.name} is now down\")\n",
    "        \n",
    "dog1=Dog(\"Shelly\", 4)\n",
    "print(dog1.name)\n",
    "print(dog1.age)\n",
    "dog1.sit()\n",
    "dog1.roll_over()\n",
    "\n",
    "dog2=Dog(\"Piper\", 5)\n",
    "dog2.sit()\n",
    "dog2.roll_over()\n",
    "dog2.shake()\n",
    "dog2.bark()\n",
    "dog2.down()"
   ]
  },
  {
   "cell_type": "markdown",
   "id": "8bbcc5c0",
   "metadata": {},
   "source": [
    "#### Note:\n",
    "- By convention, capitalized names refer to classes in Python. \n",
    "- The parentheses in the class definition are empty because we’re creating this class from scratch.\n",
    "- All classes have a function called __init__(), which is always executed when the class is being initiated.\n",
    "- Use the __init__() function to assign values to object properties, or other operations that are necessary to do when the object is being created\n",
    "- Any variable prefixed with `self` is available to every method in the class, and we’ll also be able to access these variables through any instance created from the class.\n",
    "- The Dog class has two other methods defined: sit() and roll_over().Because these methods don’t need additional information like a name or age, we just define them to have one parameter, self."
   ]
  },
  {
   "cell_type": "markdown",
   "id": "402f0696",
   "metadata": {},
   "source": [
    "### Restaurant: Make a class called Restaurant. The __init__() method for Restaurant should store two attributes: a restaurant_name and a cuisine_type.\n",
    "- Make a method called `describe_restaurant()` that prints name of teh restrurent and the cuisine type\n",
    "- and a method called open_restaurant() that prints a message indicating that the restaurant is open.\n",
    "- Make an instance called restaurant from your class. Print the two attributes individually, and then call both methods.\n"
   ]
  },
  {
   "cell_type": "code",
   "execution_count": 3,
   "id": "c4316b2d",
   "metadata": {},
   "outputs": [
    {
     "name": "stdout",
     "output_type": "stream",
     "text": [
      "Restaurant name: The Mean Queen\n",
      "Cuisine type: pizza\n",
      "The Mean Queen serves wonderful pizza.\n",
      "The Mean Queen is open. Come on in!\n"
     ]
    }
   ],
   "source": [
    "class Restaurant():\n",
    "    def __init__(self, name, cuisine_type):\n",
    "        self.name=name.title()\n",
    "        self.cuisine_type=cuisine_type\n",
    "    \n",
    "    def describe_restaurant(self):\n",
    "        print(f\"{self.name} serves wonderful {self.cuisine_type}.\")\n",
    "    def open_restaurant(self):\n",
    "        print(f\"{self.name} is open. Come on in!\")\n",
    "        \n",
    "restaurant1=Restaurant(\"The Mean Queen\", \"pizza\")\n",
    "print(f\"Restaurant name: {restaurant1.name}\")\n",
    "print(f\"Cuisine type: {restaurant1.cuisine_type}\")\n",
    "\n",
    "restaurant1.describe_restaurant()\n",
    "restaurant1.open_restaurant()"
   ]
  },
  {
   "cell_type": "markdown",
   "id": "8b4a4fca",
   "metadata": {},
   "source": [
    "### - Create three different instances from the class, and call describe_restaurant() for each instance."
   ]
  },
  {
   "cell_type": "code",
   "execution_count": 6,
   "id": "b3845fe0",
   "metadata": {},
   "outputs": [
    {
     "name": "stdout",
     "output_type": "stream",
     "text": [
      "Havana Rumba serves wonderful cuban food.\n",
      "Papa Johns serves wonderful pizza.\n",
      "Dairy Del serves wonderful ice cream.\n"
     ]
    }
   ],
   "source": [
    "restaurant2=Restaurant(\"Havana Rumba\", \"cuban food\")\n",
    "restaurant3=Restaurant(\"Papa Johns\", \"pizza\")\n",
    "restaurant4=Restaurant(\"Dairy Del\", \"ice cream\")\n",
    "\n",
    "restaurant2.describe_restaurant()\n",
    "restaurant3.describe_restaurant()\n",
    "restaurant4.describe_restaurant()"
   ]
  },
  {
   "cell_type": "markdown",
   "id": "8f4032c6",
   "metadata": {},
   "source": [
    "### Users: Make a class called User. Create attributes called first_name and last_name, username, location \n",
    "- Make a method called describe_user() that prints a summary of the user’s information. \n",
    "- Make another method called greet_user() that prints a personalized greeting to the user.\n",
    "- Create several instances representing different users, and call both methods for each user."
   ]
  },
  {
   "cell_type": "code",
   "execution_count": 12,
   "id": "dda94ce2",
   "metadata": {},
   "outputs": [
    {
     "name": "stdout",
     "output_type": "stream",
     "text": [
      "\n",
      "Eric Matthews\n",
      "  Username: e_matthews\n",
      "  Location: Alaska\n",
      "\n",
      " Welcome Eric!\n",
      "\n",
      "Willie Burger\n",
      "  Username: wburger\n",
      "  Location: Alaska\n",
      "\n",
      " Welcome Willie!\n",
      "\n",
      "Grey Lawson\n",
      "  Username: greygoose\n",
      "  Location: Wyoming\n",
      "\n",
      " Welcome Grey!\n"
     ]
    }
   ],
   "source": [
    "class User():\n",
    "    def __init__(self, fname, lname, username, location):\n",
    "        self.fname=fname.title()\n",
    "        self.lname=lname.title()\n",
    "        self.username=username\n",
    "        self.location=location.title()\n",
    "    \n",
    "    def describe_user(self):\n",
    "        print(f\"\\n{self.fname} {self.lname}\")\n",
    "        print(f\"  Username: {self.username}\")\n",
    "        print(f\"  Location: {self.location}\")\n",
    "        \n",
    "    def greet_user(self):\n",
    "        print(f\"\\n Welcome {self.fname}!\")\n",
    "        \n",
    "user1=User(\"eric\", \"matthews\", \"e_matthews\", \"alaska\")\n",
    "user1.describe_user()\n",
    "user1.greet_user()\n",
    "\n",
    "user2=User(\"willie\", \"burger\", \"wburger\", \"alaska\")\n",
    "user2.describe_user()\n",
    "user2.greet_user()\n",
    "\n",
    "user3=User(\"grey\", \"lawson\", \"greygoose\", \"wyoming\")\n",
    "user3.describe_user()\n",
    "user3.greet_user()"
   ]
  },
  {
   "cell_type": "markdown",
   "id": "8b5bfff2",
   "metadata": {},
   "source": [
    "## Setting a Default Value for an Attribute\n",
    "### Create a class called `car` which contains make, model and year\n",
    "### Add the `odometer_reading` default to zero (it is a new car)\n",
    "### Create a method called `get_descriptive_name` which returns the car information\n",
    "### Create a method called `read_odometer` which will display the odometer reading of the car\n",
    "### Create two car attributes to test the code\n"
   ]
  },
  {
   "cell_type": "code",
   "execution_count": 17,
   "id": "bbdc7a10",
   "metadata": {},
   "outputs": [],
   "source": [
    "class car():\n",
    "    #Create a class called car which contains make, model and year\n",
    "    def __init__(self, make, model, year):\n",
    "        self.make=make\n",
    "        self.model=model\n",
    "        self.year=year\n",
    "       #Add the odometer_reading default to zero\n",
    "        self.odometer_reading=0\n",
    "        \n",
    "  #Create a method called get_descriptive_name which returns the car information      \n",
    "    def get_descriptive_name(self):\n",
    "        long_name= str(self.year)+ \" \"+ self.make + \" \"+ self.model\n",
    "        return long_name.title()\n",
    "    \n",
    "    def read_odometer(self):\n",
    "        print(f\"This car has {self.odometer_reading} miles on it\")"
   ]
  },
  {
   "cell_type": "code",
   "execution_count": 18,
   "id": "35859896",
   "metadata": {},
   "outputs": [
    {
     "name": "stdout",
     "output_type": "stream",
     "text": [
      "My car: 2019 Nissan Versa\n",
      "My friends car: 2012 Ford Fusion\n",
      "This car has 0 miles on it\n",
      "This car has 0 miles on it\n"
     ]
    }
   ],
   "source": [
    "#Create two car attributes to test the code\n",
    "\n",
    "my_car=car('Nissan', 'Versa', 2019)\n",
    "friends_car=car('Ford', 'Fusion', 2012)\n",
    "\n",
    "print(f\"My car: {my_car.get_descriptive_name()}\")\n",
    "print(f\"My friends car: {friends_car.get_descriptive_name()}\")\n",
    "\n",
    "my_car.read_odometer()\n",
    "friends_car.read_odometer()"
   ]
  },
  {
   "cell_type": "markdown",
   "id": "3f840f3e",
   "metadata": {},
   "source": [
    "#### Modifying the odometer reading directly (without the method)"
   ]
  },
  {
   "cell_type": "code",
   "execution_count": 19,
   "id": "6f8fa540",
   "metadata": {},
   "outputs": [
    {
     "name": "stdout",
     "output_type": "stream",
     "text": [
      "This car has 23 miles on it\n"
     ]
    }
   ],
   "source": [
    "my_car.odometer_reading=23\n",
    "my_car.read_odometer()"
   ]
  },
  {
   "cell_type": "code",
   "execution_count": 20,
   "id": "2f382418",
   "metadata": {},
   "outputs": [
    {
     "name": "stdout",
     "output_type": "stream",
     "text": [
      "This car has 10 miles on it\n"
     ]
    }
   ],
   "source": [
    "friends_car.odometer_reading=10\n",
    "friends_car.read_odometer()"
   ]
  },
  {
   "cell_type": "markdown",
   "id": "27f8f244",
   "metadata": {},
   "source": [
    "### Modifying an Attribute’s Value Through a Method"
   ]
  },
  {
   "cell_type": "code",
   "execution_count": 24,
   "id": "9b3ae956",
   "metadata": {},
   "outputs": [],
   "source": [
    "class car():\n",
    "    #Create a class called car which contains make, model and year\n",
    "    def __init__(self, make, model, year):\n",
    "        self.make=make\n",
    "        self.model=model\n",
    "        self.year=year\n",
    "       #Add the odometer_reading default to zero\n",
    "        self.odometer_reading=0\n",
    "        \n",
    "  #Create a method called get_descriptive_name which returns the car information      \n",
    "    def get_descriptive_name(self):\n",
    "        long_name= str(self.year)+ \" \"+ self.make + \" \"+ self.model\n",
    "        return long_name.title()\n",
    "    \n",
    "    def read_odeometer(self):\n",
    "        print(f\"This car has {self.odometer_reading} miles on it\")\n",
    "        \n",
    "    def update_odometer(self, mileage):\n",
    "        self.odometer_reading=mileage\n",
    "        print(f\"The current odometer reading is: {self.odometer_reading}\")"
   ]
  },
  {
   "cell_type": "code",
   "execution_count": 25,
   "id": "3c3c57c2",
   "metadata": {},
   "outputs": [
    {
     "name": "stdout",
     "output_type": "stream",
     "text": [
      "The car information 2019 Nissan Versa\n"
     ]
    },
    {
     "ename": "AttributeError",
     "evalue": "'car' object has no attribute 'read_odometer'",
     "output_type": "error",
     "traceback": [
      "\u001b[0;31m---------------------------------------------------------------------------\u001b[0m",
      "\u001b[0;31mAttributeError\u001b[0m                            Traceback (most recent call last)",
      "\u001b[0;32m/var/folders/2n/tymx1p1s7f3bdvrhn0r6_8dh0000gn/T/ipykernel_27676/442228170.py\u001b[0m in \u001b[0;36m<module>\u001b[0;34m\u001b[0m\n\u001b[1;32m      1\u001b[0m \u001b[0mmy_car\u001b[0m\u001b[0;34m=\u001b[0m\u001b[0mcar\u001b[0m\u001b[0;34m(\u001b[0m\u001b[0;34m'Nissan'\u001b[0m\u001b[0;34m,\u001b[0m \u001b[0;34m'Versa'\u001b[0m\u001b[0;34m,\u001b[0m \u001b[0;36m2019\u001b[0m\u001b[0;34m)\u001b[0m\u001b[0;34m\u001b[0m\u001b[0;34m\u001b[0m\u001b[0m\n\u001b[1;32m      2\u001b[0m \u001b[0mprint\u001b[0m\u001b[0;34m(\u001b[0m\u001b[0;34mf\"The car information\"\u001b[0m\u001b[0;34m,\u001b[0m \u001b[0mmy_car\u001b[0m\u001b[0;34m.\u001b[0m\u001b[0mget_descriptive_name\u001b[0m\u001b[0;34m(\u001b[0m\u001b[0;34m)\u001b[0m\u001b[0;34m)\u001b[0m\u001b[0;34m\u001b[0m\u001b[0;34m\u001b[0m\u001b[0m\n\u001b[0;32m----> 3\u001b[0;31m \u001b[0mmy_car\u001b[0m\u001b[0;34m.\u001b[0m\u001b[0mread_odometer\u001b[0m\u001b[0;34m(\u001b[0m\u001b[0;34m)\u001b[0m\u001b[0;34m\u001b[0m\u001b[0;34m\u001b[0m\u001b[0m\n\u001b[0m\u001b[1;32m      4\u001b[0m \u001b[0mmy_car\u001b[0m\u001b[0;34m.\u001b[0m\u001b[0mupdate_odometer\u001b[0m\u001b[0;34m(\u001b[0m\u001b[0;36m23\u001b[0m\u001b[0;34m)\u001b[0m\u001b[0;34m\u001b[0m\u001b[0;34m\u001b[0m\u001b[0m\n",
      "\u001b[0;31mAttributeError\u001b[0m: 'car' object has no attribute 'read_odometer'"
     ]
    }
   ],
   "source": [
    "my_car=car('Nissan', 'Versa', 2019)\n",
    "print(f\"The car information\", my_car.get_descriptive_name())\n",
    "my_car.read_odometer()\n",
    "my_car.update_odometer(23)"
   ]
  },
  {
   "cell_type": "code",
   "execution_count": null,
   "id": "eb29ac6e",
   "metadata": {},
   "outputs": [],
   "source": [
    "my_car.read_odometer()"
   ]
  },
  {
   "cell_type": "code",
   "execution_count": null,
   "id": "bf677864",
   "metadata": {},
   "outputs": [],
   "source": [
    "my_car.update_odometer(100)"
   ]
  },
  {
   "cell_type": "markdown",
   "id": "fd560131",
   "metadata": {},
   "source": [
    "### Incrementing an Attribute’s Value Through a Method"
   ]
  },
  {
   "cell_type": "code",
   "execution_count": 26,
   "id": "8d76b884",
   "metadata": {},
   "outputs": [],
   "source": [
    "class car():\n",
    "    #Create a class called car which contains make, model and year\n",
    "    def __init__(self, make, model, year):\n",
    "        self.make=make\n",
    "        self.model=model\n",
    "        self.year=year\n",
    "       #Add the odometer_reading default to zero\n",
    "        self.odometer_reading=0\n",
    "        \n",
    "  #Create a method called get_descriptive_name which returns the car information      \n",
    "    def get_descriptive_name(self):\n",
    "        long_name= str(self.year)+ \" \"+ self.make + \" \"+ self.model\n",
    "        return long_name.title()\n",
    "    \n",
    "    def read_odeometer(self):\n",
    "        print(f\"This car has {self.odometer_reading} miles on it\")\n",
    "        \n",
    "    def update_odometer(self, mileage):\n",
    "        self.odometer_reading=mileage\n",
    "        print(f\"The current odometer reading is: {self.odometer_reading}\")\n",
    "        \n",
    "    def incremental_odometer(self, miles):\n",
    "        self.odometer_reading+=miles\n",
    "        print(f\"The updated odometer reading is {self.odometer_reading}\")"
   ]
  },
  {
   "cell_type": "code",
   "execution_count": 27,
   "id": "1500c7e7",
   "metadata": {},
   "outputs": [
    {
     "name": "stdout",
     "output_type": "stream",
     "text": [
      "The car information 2019 Nissan Versa\n"
     ]
    },
    {
     "ename": "AttributeError",
     "evalue": "'car' object has no attribute 'read_odometer'",
     "output_type": "error",
     "traceback": [
      "\u001b[0;31m---------------------------------------------------------------------------\u001b[0m",
      "\u001b[0;31mAttributeError\u001b[0m                            Traceback (most recent call last)",
      "\u001b[0;32m/var/folders/2n/tymx1p1s7f3bdvrhn0r6_8dh0000gn/T/ipykernel_27676/1447380867.py\u001b[0m in \u001b[0;36m<module>\u001b[0;34m\u001b[0m\n\u001b[1;32m      1\u001b[0m \u001b[0mmy_car\u001b[0m\u001b[0;34m=\u001b[0m\u001b[0mcar\u001b[0m\u001b[0;34m(\u001b[0m\u001b[0;34m'Nissan'\u001b[0m\u001b[0;34m,\u001b[0m \u001b[0;34m'Versa'\u001b[0m\u001b[0;34m,\u001b[0m \u001b[0;36m2019\u001b[0m\u001b[0;34m)\u001b[0m\u001b[0;34m\u001b[0m\u001b[0;34m\u001b[0m\u001b[0m\n\u001b[1;32m      2\u001b[0m \u001b[0mprint\u001b[0m\u001b[0;34m(\u001b[0m\u001b[0;34mf\"The car information\"\u001b[0m\u001b[0;34m,\u001b[0m \u001b[0mmy_car\u001b[0m\u001b[0;34m.\u001b[0m\u001b[0mget_descriptive_name\u001b[0m\u001b[0;34m(\u001b[0m\u001b[0;34m)\u001b[0m\u001b[0;34m)\u001b[0m\u001b[0;34m\u001b[0m\u001b[0;34m\u001b[0m\u001b[0m\n\u001b[0;32m----> 3\u001b[0;31m \u001b[0mmy_car\u001b[0m\u001b[0;34m.\u001b[0m\u001b[0mread_odometer\u001b[0m\u001b[0;34m(\u001b[0m\u001b[0;34m)\u001b[0m\u001b[0;34m\u001b[0m\u001b[0;34m\u001b[0m\u001b[0m\n\u001b[0m\u001b[1;32m      4\u001b[0m \u001b[0mmy_car\u001b[0m\u001b[0;34m.\u001b[0m\u001b[0mupdate_odometer\u001b[0m\u001b[0;34m(\u001b[0m\u001b[0;36m23\u001b[0m\u001b[0;34m)\u001b[0m\u001b[0;34m\u001b[0m\u001b[0;34m\u001b[0m\u001b[0m\n\u001b[1;32m      5\u001b[0m \u001b[0;34m\u001b[0m\u001b[0m\n",
      "\u001b[0;31mAttributeError\u001b[0m: 'car' object has no attribute 'read_odometer'"
     ]
    }
   ],
   "source": [
    "my_car=car('Nissan', 'Versa', 2019)\n",
    "print(f\"The car information\", my_car.get_descriptive_name())\n",
    "my_car.read_odometer()\n",
    "my_car.update_odometer(23)\n",
    "\n",
    "my_car.incremental_odometer(100)"
   ]
  },
  {
   "cell_type": "markdown",
   "id": "b96f0d18",
   "metadata": {},
   "source": [
    "# Inheritance\n",
    "- You don’t always have to start from scratch when writing a class. If the class you’re writing is a specialized version of another class you wrote, you can use inheritance. \n",
    "- When one class inherits from another, it automatically takes on all the attributes and methods of the first class. The original class is called the `parent class`, and the new class is the `child class`. \n",
    "- The child class inherits every attribute and method from its parent class but is also free to define new attributes and methods of its own."
   ]
  },
  {
   "cell_type": "markdown",
   "id": "c903861f",
   "metadata": {},
   "source": [
    "### Parent Class- Polygon\n",
    "- Create a method called calc_perimeter "
   ]
  },
  {
   "cell_type": "code",
   "execution_count": 1,
   "id": "07cbb387",
   "metadata": {},
   "outputs": [],
   "source": [
    "class Polygon:\n",
    "    def __init__(self,side_length):\n",
    "        self.side_length=side_length\n",
    "        \n",
    "    def perimeter(self):\n",
    "        return sum(self.side_length)"
   ]
  },
  {
   "cell_type": "code",
   "execution_count": 2,
   "id": "eac575bd",
   "metadata": {},
   "outputs": [
    {
     "name": "stdout",
     "output_type": "stream",
     "text": [
      "23\n"
     ]
    }
   ],
   "source": [
    "some_shape=Polygon([1,3,5,6,8])\n",
    "print(some_shape.perimeter())"
   ]
  },
  {
   "cell_type": "code",
   "execution_count": 3,
   "id": "8d12014c",
   "metadata": {},
   "outputs": [
    {
     "name": "stdout",
     "output_type": "stream",
     "text": [
      "177\n"
     ]
    }
   ],
   "source": [
    "another_shape=Polygon([2,56,65,12,34,8])\n",
    "print(another_shape.perimeter())"
   ]
  },
  {
   "cell_type": "markdown",
   "id": "7ff830fc",
   "metadata": {},
   "source": [
    "## Child Class\n",
    "### Create a child class called `Triangle` and calculate the perimer and the area"
   ]
  },
  {
   "cell_type": "code",
   "execution_count": 4,
   "id": "ec9ebb0b",
   "metadata": {},
   "outputs": [],
   "source": [
    "class Triangle(Polygon):\n",
    "    def __init__(self,side_length):\n",
    "        super().__init__(side_length)\n",
    "        \n",
    "    def area(self):\n",
    "        a,b,c=self.side_length # Unpacking the input variables\n",
    "        s=(a+b+c)/2\n",
    "        return (s*(s-a)*(s-b)*(s-c))**.5"
   ]
  },
  {
   "cell_type": "code",
   "execution_count": 5,
   "id": "c3ee4cf7",
   "metadata": {},
   "outputs": [
    {
     "name": "stdout",
     "output_type": "stream",
     "text": [
      "The perimeter is 12\n",
      "The area is 6\n"
     ]
    }
   ],
   "source": [
    "a_triangle=Triangle([3,4,5])\n",
    "print(f\"The perimeter is {a_triangle.perimeter()}\")\n",
    "print(f\"The area is {round(a_triangle.area())}\")"
   ]
  },
  {
   "cell_type": "markdown",
   "id": "7e3a75d2",
   "metadata": {},
   "source": [
    "### Create a child class called `square` and calculate the perimer and the area"
   ]
  },
  {
   "cell_type": "code",
   "execution_count": 6,
   "id": "df5f2e8d",
   "metadata": {},
   "outputs": [],
   "source": [
    "class Square(Polygon):\n",
    "    def __init__(self,side_length):\n",
    "        super().__init__(side_length)\n",
    "    def area(self):\n",
    "        a,b,c,d=self.side_length\n",
    "        return a**2 # all sides value are same"
   ]
  },
  {
   "cell_type": "code",
   "execution_count": 7,
   "id": "58ca0160",
   "metadata": {},
   "outputs": [
    {
     "name": "stdout",
     "output_type": "stream",
     "text": [
      "The area: 4\n",
      "The perimeter: 8\n"
     ]
    }
   ],
   "source": [
    "a_square=Square([2,2,2,2])\n",
    "print(f\"The area: {a_square.area()}\")\n",
    "print(f\"The perimeter: {a_square.perimeter()}\")"
   ]
  },
  {
   "cell_type": "markdown",
   "id": "bc1fca63",
   "metadata": {},
   "source": [
    "### Create a child class called `rectangle` and calculate the perimer and the area"
   ]
  },
  {
   "cell_type": "code",
   "execution_count": 8,
   "id": "af33188f",
   "metadata": {},
   "outputs": [],
   "source": [
    "class Rectangle(Polygon):\n",
    "    def __init__(self,side_length):\n",
    "        super().__init__(side_length)\n",
    "        \n",
    "    def area(self):\n",
    "        a,b,c,d=self.side_length\n",
    "        if a!=b:\n",
    "            result=a*b\n",
    "        elif a!=c:\n",
    "            result=a*c\n",
    "        else:\n",
    "            result= a*d\n",
    "        return result"
   ]
  },
  {
   "cell_type": "code",
   "execution_count": 9,
   "id": "8d6579e9",
   "metadata": {},
   "outputs": [
    {
     "name": "stdout",
     "output_type": "stream",
     "text": [
      "The area: 6\n",
      "The perimeter: 10\n"
     ]
    }
   ],
   "source": [
    "a_rectangle=Rectangle([2,2,3,3])\n",
    "print(f\"The area: {a_rectangle.area()}\")\n",
    "print(f\"The perimeter: {a_rectangle.perimeter()}\")"
   ]
  },
  {
   "cell_type": "markdown",
   "id": "5b594c20",
   "metadata": {},
   "source": [
    "### Practice: Create a class named Person, with firstname and lastname properties, and a printname method:"
   ]
  },
  {
   "cell_type": "code",
   "execution_count": 10,
   "id": "681edaaf",
   "metadata": {},
   "outputs": [],
   "source": [
    "class Person():\n",
    "    def __init__(self,fname,lname):\n",
    "        self.fname=fname.title()\n",
    "        self.lname=lname.title()\n",
    "        \n",
    "    def print_name(self):\n",
    "        print(f\"Fullname: {self.fname} {self.lname}\")"
   ]
  },
  {
   "cell_type": "code",
   "execution_count": 11,
   "id": "9d3a0e56",
   "metadata": {},
   "outputs": [
    {
     "name": "stdout",
     "output_type": "stream",
     "text": [
      "Fullname: John Smith\n",
      "Fullname: Anisha Ray\n"
     ]
    }
   ],
   "source": [
    "person1=Person(\"John\", \"Smith\")\n",
    "person2=Person(\"Anisha\", \"Ray\")\n",
    "person1.print_name()\n",
    "person2.print_name()"
   ]
  },
  {
   "cell_type": "markdown",
   "id": "a8023470",
   "metadata": {},
   "source": [
    "### Create child classes called Student using Inheritance contains the first and last name and the graduation year \n",
    "- Add a method called `welcome` that prints the student graduation year\n",
    "- Test the student method for two students"
   ]
  },
  {
   "cell_type": "code",
   "execution_count": 12,
   "id": "8a1571d5",
   "metadata": {},
   "outputs": [],
   "source": [
    "class Student(Person):\n",
    "    def __init__(self,fname,lname,year):\n",
    "        super().__init__(fname,lname)\n",
    "        self.year=year\n",
    "    def welcome(self):\n",
    "        print(f\"Welcome, {self.fname} {self.lname} to the class of {self.year}\")"
   ]
  },
  {
   "cell_type": "code",
   "execution_count": 13,
   "id": "5816f6a4",
   "metadata": {},
   "outputs": [
    {
     "name": "stdout",
     "output_type": "stream",
     "text": [
      "Fullname: John Smith\n",
      "Welcome, John Smith to the class of 2027\n"
     ]
    }
   ],
   "source": [
    "Student1=Student(\"John\", \"Smith\",2027)\n",
    "Student1.print_name()\n",
    "Student1.welcome()"
   ]
  },
  {
   "cell_type": "markdown",
   "id": "96eb1b75",
   "metadata": {},
   "source": [
    "### Use inheritance to create the square class from parent class rectangle"
   ]
  },
  {
   "cell_type": "markdown",
   "id": "5b750cac",
   "metadata": {},
   "source": [
    "### Create a parent class rectangle and two methods called area and perimeter"
   ]
  },
  {
   "cell_type": "code",
   "execution_count": 14,
   "id": "df8d9513",
   "metadata": {},
   "outputs": [],
   "source": [
    "class Rectangle():\n",
    "    def __init__(self,length,width):\n",
    "        self.length=length\n",
    "        self.width=width\n",
    "        \n",
    "    def area(self):\n",
    "        return self.length*self.width\n",
    "    \n",
    "    def perimeter(self):\n",
    "        return 2*(self.length+self.width)"
   ]
  },
  {
   "cell_type": "markdown",
   "id": "347fa932",
   "metadata": {},
   "source": [
    "### Create a child class square and test for two cases, do method overloading for area and perimeter"
   ]
  },
  {
   "cell_type": "code",
   "execution_count": 15,
   "id": "ea66f754",
   "metadata": {},
   "outputs": [],
   "source": [
    "class Square(Rectangle):\n",
    "    def __init__(self,length):\n",
    "        super().__init__(length,length)"
   ]
  },
  {
   "cell_type": "code",
   "execution_count": 16,
   "id": "78c9abc1",
   "metadata": {},
   "outputs": [
    {
     "name": "stdout",
     "output_type": "stream",
     "text": [
      "9\n",
      "12\n"
     ]
    }
   ],
   "source": [
    "square1=Square(3)\n",
    "print(square1.area())\n",
    "print(square1.perimeter())"
   ]
  },
  {
   "cell_type": "markdown",
   "id": "2627e72d",
   "metadata": {},
   "source": [
    "## Lambda Function"
   ]
  },
  {
   "cell_type": "code",
   "execution_count": 7,
   "id": "4d0f4bb3",
   "metadata": {},
   "outputs": [],
   "source": [
    "# Identity function returns the argument \n",
    "def identity(x):\n",
    "    return"
   ]
  },
  {
   "cell_type": "markdown",
   "id": "ba1b6714",
   "metadata": {},
   "source": [
    "### a lambda function construction:\n",
    "lambda argument(s):expression"
   ]
  },
  {
   "cell_type": "code",
   "execution_count": 9,
   "id": "b0c95348",
   "metadata": {},
   "outputs": [
    {
     "data": {
      "text/plain": [
       "2"
      ]
     },
     "execution_count": 9,
     "metadata": {},
     "output_type": "execute_result"
    }
   ],
   "source": [
    "(lambda x:x)(2) #(lambda argument:expression)(input)"
   ]
  },
  {
   "cell_type": "code",
   "execution_count": 10,
   "id": "77b24e5c",
   "metadata": {},
   "outputs": [
    {
     "data": {
      "text/plain": [
       "4"
      ]
     },
     "execution_count": 10,
     "metadata": {},
     "output_type": "execute_result"
    }
   ],
   "source": [
    "(lambda x:x+1)(3)"
   ]
  },
  {
   "cell_type": "code",
   "execution_count": 11,
   "id": "136f25a9",
   "metadata": {},
   "outputs": [],
   "source": [
    "# as lambda is a function, we can store it to a variable\n",
    "add_one=lambda x:x+1"
   ]
  },
  {
   "cell_type": "code",
   "execution_count": 12,
   "id": "49720d30",
   "metadata": {},
   "outputs": [
    {
     "data": {
      "text/plain": [
       "4"
      ]
     },
     "execution_count": 12,
     "metadata": {},
     "output_type": "execute_result"
    }
   ],
   "source": [
    "add_one(3)"
   ]
  },
  {
   "cell_type": "markdown",
   "id": "5dc1a3d1",
   "metadata": {},
   "source": [
    "## common use of lambda function\n",
    "- It uses with interables (series of values)\n",
    "- In Python, iterables are list, dictionary, tuples, strings, etc.\n",
    "- Two common function works with lambda function; `filter() and map()`"
   ]
  },
  {
   "cell_type": "markdown",
   "id": "9f5ac2e4",
   "metadata": {},
   "source": [
    "### ** filter()"
   ]
  },
  {
   "cell_type": "markdown",
   "id": "d271fe73",
   "metadata": {},
   "source": [
    "#### Example: we have a list [1,2,3,4,5,6,7,8,9,10] "
   ]
  },
  {
   "cell_type": "code",
   "execution_count": 14,
   "id": "355d5b71",
   "metadata": {},
   "outputs": [
    {
     "data": {
      "text/plain": [
       "[2, 4, 6, 8, 10]"
      ]
     },
     "execution_count": 14,
     "metadata": {},
     "output_type": "execute_result"
    }
   ],
   "source": [
    "# Filter even numbers\n",
    "\n",
    "list1=[1,2,3,4,5,6,7,8,9,10]\n",
    "list(filter(lambda x:x%2==0, list1))"
   ]
  },
  {
   "cell_type": "code",
   "execution_count": 15,
   "id": "1776f291",
   "metadata": {},
   "outputs": [
    {
     "data": {
      "text/plain": [
       "[1, 3, 5, 7, 9]"
      ]
     },
     "execution_count": 15,
     "metadata": {},
     "output_type": "execute_result"
    }
   ],
   "source": [
    "# Filter the odd numbers\n",
    "\n",
    "list(filter(lambda x:x%2==1, list1))"
   ]
  },
  {
   "cell_type": "code",
   "execution_count": 17,
   "id": "8765d45b",
   "metadata": {},
   "outputs": [
    {
     "data": {
      "text/plain": [
       "[3, 6, 9]"
      ]
     },
     "execution_count": 17,
     "metadata": {},
     "output_type": "execute_result"
    }
   ],
   "source": [
    "# Filter multiples of 3\n",
    "\n",
    "list(filter(lambda x:x%3==0, list1))"
   ]
  },
  {
   "cell_type": "markdown",
   "id": "c81459af",
   "metadata": {},
   "source": [
    "### ** map()\n",
    "### used whenever you want to update/modify every value in an iterable"
   ]
  },
  {
   "cell_type": "code",
   "execution_count": 18,
   "id": "b77d4cdb",
   "metadata": {},
   "outputs": [
    {
     "data": {
      "text/plain": [
       "[1, 4, 9, 16, 25, 36, 49, 64, 81, 100]"
      ]
     },
     "execution_count": 18,
     "metadata": {},
     "output_type": "execute_result"
    }
   ],
   "source": [
    "# create a list of the power of 2\n",
    "\n",
    "list1=[1,2,3,4,5,6,7,8,9,10]\n",
    "list(map(lambda x: pow(x,2), list1))"
   ]
  },
  {
   "cell_type": "code",
   "execution_count": 19,
   "id": "e2d2ef19",
   "metadata": {},
   "outputs": [
    {
     "data": {
      "text/plain": [
       "[1, 8, 27, 64, 125, 216, 343, 512, 729, 1000]"
      ]
     },
     "execution_count": 19,
     "metadata": {},
     "output_type": "execute_result"
    }
   ],
   "source": [
    "# create a list of the power of 3, cube of each number\n",
    "\n",
    "list(map(lambda x: pow(x,3), list1))"
   ]
  },
  {
   "cell_type": "markdown",
   "id": "f5568f33",
   "metadata": {},
   "source": [
    "### Examples"
   ]
  },
  {
   "cell_type": "code",
   "execution_count": 20,
   "id": "78c01254",
   "metadata": {},
   "outputs": [
    {
     "data": {
      "text/plain": [
       "6"
      ]
     },
     "execution_count": 20,
     "metadata": {},
     "output_type": "execute_result"
    }
   ],
   "source": [
    "(lambda x,y,z:x+y+z)(1,2,3)"
   ]
  },
  {
   "cell_type": "code",
   "execution_count": 21,
   "id": "5c575a89",
   "metadata": {},
   "outputs": [
    {
     "data": {
      "text/plain": [
       "5"
      ]
     },
     "execution_count": 21,
     "metadata": {},
     "output_type": "execute_result"
    }
   ],
   "source": [
    "(lambda x,y, z=2: x+y+z)(1,2)"
   ]
  },
  {
   "cell_type": "code",
   "execution_count": 23,
   "id": "5d36ae26",
   "metadata": {},
   "outputs": [
    {
     "data": {
      "text/plain": [
       "3"
      ]
     },
     "execution_count": 23,
     "metadata": {},
     "output_type": "execute_result"
    }
   ],
   "source": [
    "(lambda x,y, z=2: x+y+z)(1,2,0) #0 overrides original z value"
   ]
  },
  {
   "cell_type": "code",
   "execution_count": 25,
   "id": "4aec6916",
   "metadata": {},
   "outputs": [
    {
     "data": {
      "text/plain": [
       "23"
      ]
     },
     "execution_count": 25,
     "metadata": {},
     "output_type": "execute_result"
    }
   ],
   "source": [
    "(lambda *args: sum(args))(1,2,3,4,5,8) #addition"
   ]
  },
  {
   "cell_type": "markdown",
   "id": "ed2b0acd",
   "metadata": {},
   "source": [
    "### Exception handling"
   ]
  },
  {
   "cell_type": "code",
   "execution_count": 28,
   "id": "0f0f50d7",
   "metadata": {},
   "outputs": [
    {
     "ename": "ZeroDivisionError",
     "evalue": "division by zero",
     "output_type": "error",
     "traceback": [
      "\u001b[0;31m---------------------------------------------------------------------------\u001b[0m",
      "\u001b[0;31mZeroDivisionError\u001b[0m                         Traceback (most recent call last)",
      "\u001b[0;32m/var/folders/2n/tymx1p1s7f3bdvrhn0r6_8dh0000gn/T/ipykernel_61016/1738369378.py\u001b[0m in \u001b[0;36m<module>\u001b[0;34m\u001b[0m\n\u001b[0;32m----> 1\u001b[0;31m \u001b[0mprint\u001b[0m\u001b[0;34m(\u001b[0m\u001b[0;36m5\u001b[0m\u001b[0;34m/\u001b[0m\u001b[0;36m0\u001b[0m\u001b[0;34m)\u001b[0m \u001b[0;31m#cant divide by 0\u001b[0m\u001b[0;34m\u001b[0m\u001b[0;34m\u001b[0m\u001b[0m\n\u001b[0m",
      "\u001b[0;31mZeroDivisionError\u001b[0m: division by zero"
     ]
    }
   ],
   "source": [
    "print(5/0) #cant divide by 0"
   ]
  },
  {
   "cell_type": "code",
   "execution_count": 30,
   "id": "0704814f",
   "metadata": {},
   "outputs": [
    {
     "ename": "TypeError",
     "evalue": "unsupported operand type(s) for +: 'int' and 'str'",
     "output_type": "error",
     "traceback": [
      "\u001b[0;31m---------------------------------------------------------------------------\u001b[0m",
      "\u001b[0;31mTypeError\u001b[0m                                 Traceback (most recent call last)",
      "\u001b[0;32m/var/folders/2n/tymx1p1s7f3bdvrhn0r6_8dh0000gn/T/ipykernel_61016/986861047.py\u001b[0m in \u001b[0;36m<module>\u001b[0;34m\u001b[0m\n\u001b[1;32m      1\u001b[0m \u001b[0mx\u001b[0m\u001b[0;34m=\u001b[0m\u001b[0;36m5\u001b[0m\u001b[0;34m\u001b[0m\u001b[0;34m\u001b[0m\u001b[0m\n\u001b[1;32m      2\u001b[0m \u001b[0my\u001b[0m\u001b[0;34m=\u001b[0m\u001b[0;34m\"Hello\"\u001b[0m\u001b[0;34m\u001b[0m\u001b[0;34m\u001b[0m\u001b[0m\n\u001b[0;32m----> 3\u001b[0;31m \u001b[0mz\u001b[0m\u001b[0;34m=\u001b[0m\u001b[0mx\u001b[0m\u001b[0;34m+\u001b[0m\u001b[0my\u001b[0m\u001b[0;34m\u001b[0m\u001b[0;34m\u001b[0m\u001b[0m\n\u001b[0m\u001b[1;32m      4\u001b[0m \u001b[0;31m#breaks code completely\u001b[0m\u001b[0;34m\u001b[0m\u001b[0;34m\u001b[0m\u001b[0m\n",
      "\u001b[0;31mTypeError\u001b[0m: unsupported operand type(s) for +: 'int' and 'str'"
     ]
    }
   ],
   "source": [
    "x=5\n",
    "y=\"Hello\"\n",
    "z=x+y\n",
    "#breaks code completely"
   ]
  },
  {
   "cell_type": "code",
   "execution_count": 29,
   "id": "52b5c540",
   "metadata": {},
   "outputs": [
    {
     "name": "stdout",
     "output_type": "stream",
     "text": [
      "Error: can not add int and str\n"
     ]
    }
   ],
   "source": [
    "x=5\n",
    "y=\"Hello\"\n",
    "\n",
    "try:\n",
    "    z=x+y\n",
    "except TypeError:\n",
    "    print(\"Error: can not add int and str\")"
   ]
  },
  {
   "cell_type": "code",
   "execution_count": 32,
   "id": "063a60b2",
   "metadata": {},
   "outputs": [
    {
     "name": "stdout",
     "output_type": "stream",
     "text": [
      "Second Variable:  2\n",
      "An error occured\n"
     ]
    }
   ],
   "source": [
    "list1=[1,2,3]\n",
    "try:\n",
    "    print(\"Second Variable: \", list1[1])\n",
    "    print(\"Fourth Variable: \", list1[3])\n",
    "except:\n",
    "    print(\"An error occured\")"
   ]
  },
  {
   "cell_type": "code",
   "execution_count": 35,
   "id": "0263586a",
   "metadata": {},
   "outputs": [
    {
     "name": "stdout",
     "output_type": "stream",
     "text": [
      "-5.0\n",
      "a/b results in 0\n"
     ]
    }
   ],
   "source": [
    "def test(a,b):\n",
    "    try:\n",
    "        c=(a+b)/(a-b)\n",
    "    except ZeroDivisionError:\n",
    "        print(\"a/b results in 0\")\n",
    "    else:\n",
    "        print(c)\n",
    "test(2,3)\n",
    "test(3,3)"
   ]
  },
  {
   "cell_type": "markdown",
   "id": "3bdcfd1c",
   "metadata": {},
   "source": [
    "## Create a simple calculator using classes (IP7)"
   ]
  },
  {
   "cell_type": "code",
   "execution_count": 29,
   "id": "6ab4b4b1",
   "metadata": {},
   "outputs": [
    {
     "name": "stdout",
     "output_type": "stream",
     "text": [
      "Enter first number: 24\n",
      "Enter second number: 34\n",
      "\n",
      "0. Exit\n",
      "1. Addition\n",
      "2. Subtraction\n",
      "3. Multiplication\n",
      "4. Division\n",
      "Enter your choice: 2\n",
      "Result: -10\n",
      "\n",
      "0. Exit\n",
      "1. Addition\n",
      "2. Subtraction\n",
      "3. Multiplication\n",
      "4. Division\n",
      "Enter your choice: 0\n",
      "Exit\n",
      "\n"
     ]
    }
   ],
   "source": [
    "class calculator():\n",
    "    def __init__(self, input1, input2):\n",
    "        self.input1=input1\n",
    "        self.input2=input2\n",
    "    def addition(self):\n",
    "        return self.input1+self.input2\n",
    "    def subtraction(self):\n",
    "        return self.input1-self.input2\n",
    "    def multiplication(self):\n",
    "        return self.input1*self.input2\n",
    "    def division(self):\n",
    "        return self.input1/self.input2\n",
    "    \n",
    "input_1=int(input(\"Enter first number: \"))\n",
    "input_2=int(input(\"Enter second number: \"))\n",
    "my_calc=calculator(input_1,input_2)\n",
    "\n",
    "choice=1\n",
    "while choice!=0:\n",
    "    print()\n",
    "    print(\"0. Exit\")\n",
    "    print(\"1. Addition\")\n",
    "    print(\"2. Subtraction\")\n",
    "    print(\"3. Multiplication\")\n",
    "    print(\"4. Division\")\n",
    "    choice=int(input(\"Enter your choice: \"))\n",
    "    \n",
    "    if choice==1:\n",
    "        print(f\"Result: {my_calc.addition()}\")\n",
    "        \n",
    "    elif choice==2:\n",
    "        print(f\"Result: {my_calc.subtraction()}\")\n",
    "        \n",
    "    elif choice==3:\n",
    "        print(f\"Result: {my_calc.multiplication()}\")\n",
    "        \n",
    "    elif choice==4:\n",
    "        print(f\"Result: {my_calc.division()}\")\n",
    "        \n",
    "    elif choice==0:\n",
    "        print(\"Exit\")\n",
    "        \n",
    "    else:\n",
    "        print(\"Sorry. Invalid choice.\")\n",
    "        \n",
    "print()"
   ]
  },
  {
   "cell_type": "markdown",
   "id": "0ec161b5",
   "metadata": {},
   "source": [
    "## ATM machine "
   ]
  },
  {
   "cell_type": "code",
   "execution_count": 36,
   "id": "267c3e25",
   "metadata": {},
   "outputs": [],
   "source": [
    "class bank_account:\n",
    "    def __init__(self):\n",
    "        self.balance=0\n",
    "        print(\"Hello. Welcome to the ATM\")\n",
    "    def deposit(self):\n",
    "        amount= float(input(\"Enter the amount you want to deposit: \"))\n",
    "        self.balance+=amount\n",
    "        print(\"\\n The amount deposited\", amount)\n",
    "    def withdraw(self):\n",
    "        amount= float(input(\"Enter the amount you want to withdraw: \"))\n",
    "        if self.balance>=amount:\n",
    "            self.balance-=amount\n",
    "            print(\"\\n The amount withdrawn\", amount)\n",
    "        else:\n",
    "            print(\"\\n Insufficient balance\")\n",
    "    def display(self):\n",
    "        print(\"The available balance is\", self.balance)"
   ]
  },
  {
   "cell_type": "code",
   "execution_count": 37,
   "id": "a6e40459",
   "metadata": {},
   "outputs": [
    {
     "name": "stdout",
     "output_type": "stream",
     "text": [
      "Hello. Welcome to the ATM\n",
      "The available balance is 0\n"
     ]
    }
   ],
   "source": [
    "sams_account=bank_account()\n",
    "sams_account.display()"
   ]
  },
  {
   "cell_type": "code",
   "execution_count": 38,
   "id": "5349965d",
   "metadata": {},
   "outputs": [
    {
     "name": "stdout",
     "output_type": "stream",
     "text": [
      "Enter the amount you want to deposit: 500\n",
      "\n",
      " The amount deposited 500.0\n"
     ]
    }
   ],
   "source": [
    "#Deposit \n",
    "sams_account.deposit()"
   ]
  },
  {
   "cell_type": "code",
   "execution_count": 39,
   "id": "e48c6114",
   "metadata": {},
   "outputs": [
    {
     "name": "stdout",
     "output_type": "stream",
     "text": [
      "The available balance is 500.0\n"
     ]
    }
   ],
   "source": [
    "sams_account.display()"
   ]
  },
  {
   "cell_type": "code",
   "execution_count": 41,
   "id": "8271dadf",
   "metadata": {},
   "outputs": [
    {
     "name": "stdout",
     "output_type": "stream",
     "text": [
      "Enter the amount you want to withdraw: 200\n",
      "\n",
      " The amount withdrawn 200.0\n"
     ]
    }
   ],
   "source": [
    "#Withdraw\n",
    "sams_account.withdraw()"
   ]
  },
  {
   "cell_type": "code",
   "execution_count": 42,
   "id": "2d8c8ea5",
   "metadata": {},
   "outputs": [
    {
     "name": "stdout",
     "output_type": "stream",
     "text": [
      "The available balance is 300.0\n"
     ]
    }
   ],
   "source": [
    "sams_account.display()"
   ]
  }
 ],
 "metadata": {
  "kernelspec": {
   "display_name": "Python 3 (ipykernel)",
   "language": "python",
   "name": "python3"
  },
  "language_info": {
   "codemirror_mode": {
    "name": "ipython",
    "version": 3
   },
   "file_extension": ".py",
   "mimetype": "text/x-python",
   "name": "python",
   "nbconvert_exporter": "python",
   "pygments_lexer": "ipython3",
   "version": "3.9.13"
  }
 },
 "nbformat": 4,
 "nbformat_minor": 5
}
